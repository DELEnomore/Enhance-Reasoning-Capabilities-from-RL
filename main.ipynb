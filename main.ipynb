{
  "cells": [
    {
      "cell_type": "markdown",
      "metadata": {
        "id": "view-in-github",
        "colab_type": "text"
      },
      "source": [
        "<a href=\"https://colab.research.google.com/github/DELEnomore/Enhance-Reasoning-Capabilities-from-RL/blob/Colab/main.ipynb\" target=\"_parent\"><img src=\"https://colab.research.google.com/assets/colab-badge.svg\" alt=\"Open In Colab\"/></a>"
      ]
    },
    {
      "cell_type": "code",
      "execution_count": null,
      "metadata": {
        "id": "V8aHbgG1kwmO"
      },
      "outputs": [],
      "source": [
        "!pip install git+https://github.com/refi64/PyExt.git@a95f488490fc57ec17d0c00a99c6bc0a4726824f opencompass math_verify latex2sympy2_extended trl"
      ]
    },
    {
      "cell_type": "code",
      "execution_count": null,
      "metadata": {
        "id": "YCtAY2apgNlu"
      },
      "outputs": [],
      "source": [
        "from google.colab import drive, userdata\n",
        "drive.mount('/content/drive')"
      ]
    },
    {
      "cell_type": "code",
      "execution_count": null,
      "metadata": {
        "id": "TxsNVoq4prwR"
      },
      "outputs": [],
      "source": [
        "!git init\n",
        "!git remote add origin https://github.com/DELEnomore/Enhance-Reasoning-Capabilities-from-RL.git"
      ]
    },
    {
      "cell_type": "code",
      "execution_count": null,
      "metadata": {
        "id": "yI_JvWVnqUpX"
      },
      "outputs": [],
      "source": [
        "!git fetch origin\n",
        "!git reset --hard origin/main"
      ]
    },
    {
      "cell_type": "code",
      "execution_count": null,
      "metadata": {
        "id": "nRoI-gB3oUaq"
      },
      "outputs": [],
      "source": [
        "!python download_model.py"
      ]
    },
    {
      "cell_type": "code",
      "source": [
        "!python rl_finetune.py"
      ],
      "metadata": {
        "id": "KVbvtplFLrfk"
      },
      "execution_count": null,
      "outputs": []
    },
    {
      "cell_type": "code",
      "execution_count": null,
      "metadata": {
        "colab": {
          "background_save": true
        },
        "id": "aWPgHbxipFM7"
      },
      "outputs": [],
      "source": [
        "!python run_eval.py"
      ]
    },
    {
      "cell_type": "code",
      "source": [
        "!python chat_with_model.py"
      ],
      "metadata": {
        "id": "uWzbHawDWDo1"
      },
      "execution_count": null,
      "outputs": []
    }
  ],
  "metadata": {
    "accelerator": "GPU",
    "colab": {
      "gpuType": "A100",
      "provenance": [],
      "machine_shape": "hm",
      "mount_file_id": "1mEDsyYLGW-g8atwbAxM-lTOylGt2WVJT",
      "authorship_tag": "ABX9TyNuOBBrPouuvGbdJRJJWdco",
      "include_colab_link": true
    },
    "kernelspec": {
      "display_name": "Python 3",
      "name": "python3"
    },
    "language_info": {
      "name": "python"
    }
  },
  "nbformat": 4,
  "nbformat_minor": 0
}