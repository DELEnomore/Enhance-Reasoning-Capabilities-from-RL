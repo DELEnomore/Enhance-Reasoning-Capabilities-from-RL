{
  "cells": [
    {
      "cell_type": "markdown",
      "metadata": {
        "id": "view-in-github",
        "colab_type": "text"
      },
      "source": [
        "<a href=\"https://colab.research.google.com/github/DELEnomore/Enhance-Reasoning-Capabilities-from-RL/blob/Colab/main.ipynb\" target=\"_parent\"><img src=\"https://colab.research.google.com/assets/colab-badge.svg\" alt=\"Open In Colab\"/></a>"
      ]
    },
    {
      "cell_type": "code",
      "source": [
        "!pip install vllm==0.10.0"
      ],
      "metadata": {
        "id": "SIHOSzdQRB_X"
      },
      "execution_count": null,
      "outputs": []
    },
    {
      "cell_type": "code",
      "source": [
        "!pip install lighteval emoji lighteval[multilingual]"
      ],
      "metadata": {
        "id": "-fGQ3Olxe1Sp"
      },
      "execution_count": null,
      "outputs": []
    },
    {
      "cell_type": "code",
      "source": [
        "!lighteval tasks list"
      ],
      "metadata": {
        "id": "YEx8V--ce_a-"
      },
      "execution_count": null,
      "outputs": []
    },
    {
      "cell_type": "code",
      "source": [
        "# 解决训练checkpoint读取失败的问题\n",
        "!pip uninstall transformers\n",
        "!pip install git+https://github.com/DELEnomore/transformers.git@main"
      ],
      "metadata": {
        "id": "j1oUBIoMbeq-"
      },
      "execution_count": null,
      "outputs": []
    },
    {
      "cell_type": "code",
      "source": [
        "# 训练用的\n",
        "!pip install math_verify trl"
      ],
      "metadata": {
        "id": "nwF59f_2474R"
      },
      "execution_count": null,
      "outputs": []
    },
    {
      "cell_type": "code",
      "execution_count": null,
      "metadata": {
        "id": "YCtAY2apgNlu"
      },
      "outputs": [],
      "source": [
        "from google.colab import drive, userdata\n",
        "drive.mount('/content/drive')"
      ]
    },
    {
      "cell_type": "code",
      "execution_count": null,
      "metadata": {
        "id": "TxsNVoq4prwR"
      },
      "outputs": [],
      "source": [
        "!git init\n",
        "!git remote add origin https://github.com/DELEnomore/Enhance-Reasoning-Capabilities-from-RL.git"
      ]
    },
    {
      "cell_type": "code",
      "execution_count": null,
      "metadata": {
        "id": "yI_JvWVnqUpX"
      },
      "outputs": [],
      "source": [
        "!git fetch origin\n",
        "!git reset --hard origin/main"
      ]
    },
    {
      "cell_type": "code",
      "execution_count": null,
      "metadata": {
        "id": "aWPgHbxipFM7"
      },
      "outputs": [],
      "source": [
        "!python -m evaluate.run_eval"
      ]
    },
    {
      "cell_type": "code",
      "source": [
        "!python -m train.rl_finetune"
      ],
      "metadata": {
        "id": "Mfu9eYmGxB32"
      },
      "execution_count": null,
      "outputs": []
    }
  ],
  "metadata": {
    "accelerator": "GPU",
    "colab": {
      "gpuType": "L4",
      "provenance": [],
      "machine_shape": "hm",
      "mount_file_id": "1mEDsyYLGW-g8atwbAxM-lTOylGt2WVJT",
      "authorship_tag": "ABX9TyMDjrbXxZhG+6DwIhW9BB70",
      "include_colab_link": true
    },
    "kernelspec": {
      "display_name": "Python 3",
      "name": "python3"
    },
    "language_info": {
      "name": "python"
    }
  },
  "nbformat": 4,
  "nbformat_minor": 0
}