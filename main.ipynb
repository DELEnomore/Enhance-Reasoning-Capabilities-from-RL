{
  "cells": [
    {
      "cell_type": "markdown",
      "metadata": {
        "id": "view-in-github",
        "colab_type": "text"
      },
      "source": [
        "<a href=\"https://colab.research.google.com/github/DELEnomore/Enhance-Reasoning-Capabilities-from-RL/blob/Colab/main.ipynb\" target=\"_parent\"><img src=\"https://colab.research.google.com/assets/colab-badge.svg\" alt=\"Open In Colab\"/></a>"
      ]
    },
    {
      "cell_type": "code",
      "execution_count": null,
      "metadata": {
        "id": "V8aHbgG1kwmO"
      },
      "outputs": [],
      "source": [
        "# opencompass\n",
        "!pip install git+https://github.com/refi64/PyExt.git@a95f488490fc57ec17d0c00a99c6bc0a4726824f git+https://github.com/DELEnomore/opencompass.git@main latex2sympy2_extended"
      ]
    },
    {
      "cell_type": "code",
      "source": [
        "!pip uninstall transformers"
      ],
      "metadata": {
        "id": "xiAyLPJddZnL"
      },
      "execution_count": null,
      "outputs": []
    },
    {
      "cell_type": "code",
      "source": [
        "!pip install git+https://github.com/DELEnomore/transformers.git@main"
      ],
      "metadata": {
        "id": "j1oUBIoMbeq-"
      },
      "execution_count": null,
      "outputs": []
    },
    {
      "cell_type": "code",
      "source": [
        "!pip install torch math_verify trl --upgrade"
      ],
      "metadata": {
        "id": "nwF59f_2474R"
      },
      "execution_count": null,
      "outputs": []
    },
    {
      "cell_type": "code",
      "execution_count": null,
      "metadata": {
        "id": "YCtAY2apgNlu"
      },
      "outputs": [],
      "source": [
        "from google.colab import drive, userdata\n",
        "drive.mount('/content/drive')"
      ]
    },
    {
      "cell_type": "code",
      "execution_count": null,
      "metadata": {
        "id": "TxsNVoq4prwR"
      },
      "outputs": [],
      "source": [
        "!git init\n",
        "!git remote add origin https://github.com/DELEnomore/Enhance-Reasoning-Capabilities-from-RL.git"
      ]
    },
    {
      "cell_type": "code",
      "execution_count": null,
      "metadata": {
        "id": "yI_JvWVnqUpX"
      },
      "outputs": [],
      "source": [
        "!git fetch origin\n",
        "!git reset --hard origin/main"
      ]
    },
    {
      "cell_type": "code",
      "source": [
        "# 将当前项目路径添加到python工作路径，不然找不到包\n",
        "import os\n",
        "project_root = '/content'\n",
        "os.environ['PYTHONPATH'] = project_root + (os.environ.get('PYTHONPATH', '') and (':' + os.environ['PYTHONPATH']) or '')"
      ],
      "metadata": {
        "id": "xiPn28fC1gvP"
      },
      "execution_count": 8,
      "outputs": []
    },
    {
      "cell_type": "code",
      "execution_count": null,
      "metadata": {
        "id": "aWPgHbxipFM7"
      },
      "outputs": [],
      "source": [
        "!python -m evaluate.run_eval"
      ]
    },
    {
      "cell_type": "code",
      "source": [
        "!python -m train.rl_finetune"
      ],
      "metadata": {
        "id": "Mfu9eYmGxB32"
      },
      "execution_count": null,
      "outputs": []
    }
  ],
  "metadata": {
    "accelerator": "GPU",
    "colab": {
      "gpuType": "L4",
      "provenance": [],
      "machine_shape": "hm",
      "mount_file_id": "1mEDsyYLGW-g8atwbAxM-lTOylGt2WVJT",
      "authorship_tag": "ABX9TyMmnehxETfHpY04kVXRKoyy",
      "include_colab_link": true
    },
    "kernelspec": {
      "display_name": "Python 3",
      "name": "python3"
    },
    "language_info": {
      "name": "python"
    }
  },
  "nbformat": 4,
  "nbformat_minor": 0
}